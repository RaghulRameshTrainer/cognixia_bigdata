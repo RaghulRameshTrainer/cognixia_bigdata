{
 "cells": [
  {
   "cell_type": "code",
   "execution_count": 1,
   "id": "4223bcb9-2c53-4c23-8029-a118d20081d2",
   "metadata": {
    "execution": {
     "iopub.execute_input": "2022-09-16T04:43:18.536494Z",
     "iopub.status.busy": "2022-09-16T04:43:18.536269Z",
     "iopub.status.idle": "2022-09-16T04:43:50.342632Z",
     "shell.execute_reply": "2022-09-16T04:43:50.341809Z",
     "shell.execute_reply.started": "2022-09-16T04:43:18.536470Z"
    }
   },
   "outputs": [
    {
     "data": {
      "application/vnd.jupyter.widget-view+json": {
       "model_id": "bb16f960f2564336939d96efae9a678c",
       "version_major": 2,
       "version_minor": 0
      },
      "text/plain": [
       "VBox()"
      ]
     },
     "metadata": {},
     "output_type": "display_data"
    },
    {
     "name": "stdout",
     "output_type": "stream",
     "text": [
      "Starting Spark application\n"
     ]
    },
    {
     "data": {
      "text/html": [
       "<table>\n",
       "<tr><th>ID</th><th>YARN Application ID</th><th>Kind</th><th>State</th><th>Spark UI</th><th>Driver log</th><th>User</th><th>Current session?</th></tr><tr><td>0</td><td>application_1663303008846_0001</td><td>pyspark</td><td>idle</td><td><a target=\"_blank\" href=\"http://ip-172-31-7-105.ap-south-1.compute.internal:20888/proxy/application_1663303008846_0001/\" class=\"emr-proxy-link\" emr-resource=\"j-2PD5TZA30XVA6\n",
       "\" application-id=\"application_1663303008846_0001\">Link</a></td><td><a target=\"_blank\" href=\"http://ip-172-31-6-245.ap-south-1.compute.internal:8042/node/containerlogs/container_1663303008846_0001_01_000001/livy\" >Link</a></td><td>None</td><td>✔</td></tr></table>"
      ],
      "text/plain": [
       "<IPython.core.display.HTML object>"
      ]
     },
     "metadata": {},
     "output_type": "display_data"
    },
    {
     "data": {
      "application/vnd.jupyter.widget-view+json": {
       "model_id": "",
       "version_major": 2,
       "version_minor": 0
      },
      "text/plain": [
       "FloatProgress(value=0.0, bar_style='info', description='Progress:', layout=Layout(height='25px', width='50%'),…"
      ]
     },
     "metadata": {},
     "output_type": "display_data"
    },
    {
     "name": "stdout",
     "output_type": "stream",
     "text": [
      "SparkSession available as 'spark'.\n"
     ]
    },
    {
     "data": {
      "application/vnd.jupyter.widget-view+json": {
       "model_id": "",
       "version_major": 2,
       "version_minor": 0
      },
      "text/plain": [
       "FloatProgress(value=0.0, bar_style='info', description='Progress:', layout=Layout(height='25px', width='50%'),…"
      ]
     },
     "metadata": {},
     "output_type": "display_data"
    },
    {
     "name": "stdout",
     "output_type": "stream",
     "text": [
      "<pyspark.sql.session.SparkSession object at 0x7f24a4cc6850>"
     ]
    }
   ],
   "source": [
    "spark"
   ]
  },
  {
   "cell_type": "code",
   "execution_count": 2,
   "id": "94a15c37-7a67-4fc9-bd9b-b883fe43650a",
   "metadata": {
    "execution": {
     "iopub.execute_input": "2022-09-16T04:49:39.823272Z",
     "iopub.status.busy": "2022-09-16T04:49:39.823041Z",
     "iopub.status.idle": "2022-09-16T04:49:51.212390Z",
     "shell.execute_reply": "2022-09-16T04:49:51.211620Z",
     "shell.execute_reply.started": "2022-09-16T04:49:39.823247Z"
    }
   },
   "outputs": [
    {
     "data": {
      "application/vnd.jupyter.widget-view+json": {
       "model_id": "9c70034e44de44048ed2b7c3dbe632da",
       "version_major": 2,
       "version_minor": 0
      },
      "text/plain": [
       "VBox()"
      ]
     },
     "metadata": {},
     "output_type": "display_data"
    },
    {
     "data": {
      "application/vnd.jupyter.widget-view+json": {
       "model_id": "",
       "version_major": 2,
       "version_minor": 0
      },
      "text/plain": [
       "FloatProgress(value=0.0, bar_style='info', description='Progress:', layout=Layout(height='25px', width='50%'),…"
      ]
     },
     "metadata": {},
     "output_type": "display_data"
    },
    {
     "name": "stdout",
     "output_type": "stream",
     "text": [
      "+--------+---+\n",
      "|    Name|Age|\n",
      "+--------+---+\n",
      "|  Raghul| 38|\n",
      "|    Bala| 40|\n",
      "|Madhavan| 45|\n",
      "|  Malini| 31|\n",
      "+--------+---+"
     ]
    }
   ],
   "source": [
    "data=[[\"Raghul\",38],[\"Bala\",40],[\"Madhavan\",45],[\"Malini\",31]]\n",
    "rdd=spark.sparkContext.parallelize(data)\n",
    "df=rdd.toDF([\"Name\",\"Age\"])\n",
    "df.show()\n",
    "                                "
   ]
  },
  {
   "cell_type": "code",
   "execution_count": 3,
   "id": "323506aa-14f5-4f29-890b-99e4ed3edaf3",
   "metadata": {
    "execution": {
     "iopub.execute_input": "2022-09-16T04:50:57.086071Z",
     "iopub.status.busy": "2022-09-16T04:50:57.085735Z",
     "iopub.status.idle": "2022-09-16T04:51:08.458965Z",
     "shell.execute_reply": "2022-09-16T04:51:08.458365Z",
     "shell.execute_reply.started": "2022-09-16T04:50:57.086033Z"
    }
   },
   "outputs": [
    {
     "data": {
      "application/vnd.jupyter.widget-view+json": {
       "model_id": "bbd8669103c24a23b22fd6de26434ba7",
       "version_major": 2,
       "version_minor": 0
      },
      "text/plain": [
       "VBox()"
      ]
     },
     "metadata": {},
     "output_type": "display_data"
    },
    {
     "data": {
      "application/vnd.jupyter.widget-view+json": {
       "model_id": "",
       "version_major": 2,
       "version_minor": 0
      },
      "text/plain": [
       "FloatProgress(value=0.0, bar_style='info', description='Progress:', layout=Layout(height='25px', width='50%'),…"
      ]
     },
     "metadata": {},
     "output_type": "display_data"
    }
   ],
   "source": [
    "df.write.format(\"parquet\").mode(\"append\").saveAsTable(\"Customer\")"
   ]
  },
  {
   "cell_type": "code",
   "execution_count": 4,
   "id": "7efe4f81-a2be-4844-a6b1-2db1c449eed6",
   "metadata": {
    "execution": {
     "iopub.execute_input": "2022-09-16T04:51:32.012060Z",
     "iopub.status.busy": "2022-09-16T04:51:32.011841Z",
     "iopub.status.idle": "2022-09-16T04:51:33.319593Z",
     "shell.execute_reply": "2022-09-16T04:51:33.318989Z",
     "shell.execute_reply.started": "2022-09-16T04:51:32.012037Z"
    }
   },
   "outputs": [
    {
     "data": {
      "application/vnd.jupyter.widget-view+json": {
       "model_id": "977063d0451342138414bf3d29eb6ac8",
       "version_major": 2,
       "version_minor": 0
      },
      "text/plain": [
       "VBox()"
      ]
     },
     "metadata": {},
     "output_type": "display_data"
    },
    {
     "data": {
      "application/vnd.jupyter.widget-view+json": {
       "model_id": "",
       "version_major": 2,
       "version_minor": 0
      },
      "text/plain": [
       "FloatProgress(value=0.0, bar_style='info', description='Progress:', layout=Layout(height='25px', width='50%'),…"
      ]
     },
     "metadata": {},
     "output_type": "display_data"
    },
    {
     "name": "stdout",
     "output_type": "stream",
     "text": [
      "+--------+---+\n",
      "|    Name|Age|\n",
      "+--------+---+\n",
      "|Madhavan| 45|\n",
      "|  Malini| 31|\n",
      "|  Raghul| 38|\n",
      "|    Bala| 40|\n",
      "+--------+---+"
     ]
    }
   ],
   "source": [
    "spark.sql(\"SELECT * FROM Customer\").show()"
   ]
  },
  {
   "cell_type": "code",
   "execution_count": 6,
   "id": "064c63b5-238b-4e53-88b5-ff5d9da90b2e",
   "metadata": {
    "execution": {
     "iopub.execute_input": "2022-09-16T04:53:16.533980Z",
     "iopub.status.busy": "2022-09-16T04:53:16.533759Z",
     "iopub.status.idle": "2022-09-16T04:53:17.831621Z",
     "shell.execute_reply": "2022-09-16T04:53:17.831019Z",
     "shell.execute_reply.started": "2022-09-16T04:53:16.533956Z"
    },
    "tags": []
   },
   "outputs": [
    {
     "data": {
      "application/vnd.jupyter.widget-view+json": {
       "model_id": "9dba7f5957e34017ac2bca5fe045262d",
       "version_major": 2,
       "version_minor": 0
      },
      "text/plain": [
       "VBox()"
      ]
     },
     "metadata": {},
     "output_type": "display_data"
    },
    {
     "data": {
      "application/vnd.jupyter.widget-view+json": {
       "model_id": "",
       "version_major": 2,
       "version_minor": 0
      },
      "text/plain": [
       "FloatProgress(value=0.0, bar_style='info', description='Progress:', layout=Layout(height='25px', width='50%'),…"
      ]
     },
     "metadata": {},
     "output_type": "display_data"
    },
    {
     "name": "stdout",
     "output_type": "stream",
     "text": [
      "+--------+---+---------+\n",
      "|    Name|Age|Education|\n",
      "+--------+---+---------+\n",
      "|  Raghul| 38|       BE|\n",
      "|    Bala| 40|      MCA|\n",
      "|Madhavan| 45|       ME|\n",
      "|  Malini| 31|      BSc|\n",
      "+--------+---+---------+"
     ]
    }
   ],
   "source": [
    "data1=[[\"Raghul\",38,\"BE\"],[\"Bala\",40,\"MCA\"],[\"Madhavan\",45,\"ME\"],[\"Malini\",31,\"BSc\"]]\n",
    "rdd1=spark.sparkContext.parallelize(data1)\n",
    "df1=rdd1.toDF([\"Name\",\"Age\",\"Education\"])\n",
    "df1.show()"
   ]
  },
  {
   "cell_type": "code",
   "execution_count": 7,
   "id": "c41e9b5e-0ffc-43d7-b15a-1bc122d3a38b",
   "metadata": {
    "execution": {
     "iopub.execute_input": "2022-09-16T04:53:45.001779Z",
     "iopub.status.busy": "2022-09-16T04:53:45.001543Z",
     "iopub.status.idle": "2022-09-16T04:53:45.802280Z",
     "shell.execute_reply": "2022-09-16T04:53:45.801553Z",
     "shell.execute_reply.started": "2022-09-16T04:53:45.001753Z"
    }
   },
   "outputs": [
    {
     "data": {
      "application/vnd.jupyter.widget-view+json": {
       "model_id": "db304de9a345479987dc899c8011c2e6",
       "version_major": 2,
       "version_minor": 0
      },
      "text/plain": [
       "VBox()"
      ]
     },
     "metadata": {},
     "output_type": "display_data"
    },
    {
     "data": {
      "application/vnd.jupyter.widget-view+json": {
       "model_id": "",
       "version_major": 2,
       "version_minor": 0
      },
      "text/plain": [
       "FloatProgress(value=0.0, bar_style='info', description='Progress:', layout=Layout(height='25px', width='50%'),…"
      ]
     },
     "metadata": {},
     "output_type": "display_data"
    },
    {
     "name": "stderr",
     "output_type": "stream",
     "text": [
      "An error was encountered:\n",
      "\"The column number of the existing table default.Customer(struct<Name:string,Age:bigint>) doesn't match the data schema(struct<Name:string,Age:bigint,Education:string>);\"\n",
      "Traceback (most recent call last):\n",
      "  File \"/usr/lib/spark/python/lib/pyspark.zip/pyspark/sql/readwriter.py\", line 781, in saveAsTable\n",
      "    self._jwrite.saveAsTable(name)\n",
      "  File \"/usr/lib/spark/python/lib/py4j-0.10.7-src.zip/py4j/java_gateway.py\", line 1257, in __call__\n",
      "    answer, self.gateway_client, self.target_id, self.name)\n",
      "  File \"/usr/lib/spark/python/lib/pyspark.zip/pyspark/sql/utils.py\", line 69, in deco\n",
      "    raise AnalysisException(s.split(': ', 1)[1], stackTrace)\n",
      "pyspark.sql.utils.AnalysisException: \"The column number of the existing table default.Customer(struct<Name:string,Age:bigint>) doesn't match the data schema(struct<Name:string,Age:bigint,Education:string>);\"\n",
      "\n"
     ]
    }
   ],
   "source": [
    "df1.write.format(\"parquet\").mode(\"append\").saveAsTable(\"Customer\")"
   ]
  },
  {
   "cell_type": "code",
   "execution_count": null,
   "id": "18ee8e1a-1c9b-4a5a-b001-966bf14c6697",
   "metadata": {},
   "outputs": [],
   "source": []
  }
 ],
 "metadata": {
  "kernelspec": {
   "display_name": "PySpark",
   "language": "python",
   "name": "pysparkkernel"
  },
  "language_info": {
   "codemirror_mode": {
    "name": "python",
    "version": 3
   },
   "file_extension": ".py",
   "mimetype": "text/x-python",
   "name": "pyspark",
   "pygments_lexer": "python3"
  }
 },
 "nbformat": 4,
 "nbformat_minor": 5
}
